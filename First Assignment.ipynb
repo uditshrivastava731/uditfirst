{
 "cells": [
  {
   "cell_type": "code",
   "execution_count": 11,
   "id": "748d5920-029c-4340-bb3e-12a7edac214f",
   "metadata": {},
   "outputs": [
    {
     "name": "stdin",
     "output_type": "stream",
     "text": [
      "Enter the number:  25\n"
     ]
    },
    {
     "name": "stdout",
     "output_type": "stream",
     "text": [
      "<class 'float'>\n"
     ]
    }
   ],
   "source": [
    "#Q1. Convert a integer to a floating-point number.\n",
    "Integer_Number = int(input(\"Enter the number: \"))\n",
    "Floating_number= float(Integer_Number)\n",
    "print(type(Floating_number))"
   ]
  },
  {
   "cell_type": "code",
   "execution_count": 12,
   "id": "745a2ec6-51a4-4524-a07b-71114d0a62db",
   "metadata": {},
   "outputs": [
    {
     "name": "stdin",
     "output_type": "stream",
     "text": [
      "Enter the number:  25\n"
     ]
    },
    {
     "name": "stdout",
     "output_type": "stream",
     "text": [
      "<class 'int'>\n"
     ]
    }
   ],
   "source": [
    "#Q2. Convert a float to a integer.\n",
    "float_Number = float(input(\"Enter the number: \"))\n",
    "integer_number= int(float_Number)\n",
    "print(type(integer_number))"
   ]
  },
  {
   "cell_type": "code",
   "execution_count": 14,
   "id": "f2bd3370-7a6c-45e8-a9e8-b10b8f00e9ab",
   "metadata": {},
   "outputs": [
    {
     "name": "stdin",
     "output_type": "stream",
     "text": [
      "Enter the number:  25\n"
     ]
    },
    {
     "name": "stdout",
     "output_type": "stream",
     "text": [
      "<class 'str'>\n"
     ]
    }
   ],
   "source": [
    "#Q3. Convert a integer to a string.\n",
    "Integer_Number = int(input(\"Enter the number: \"))\n",
    "string_number = str(Integer_Number)\n",
    "print(type(string_number))"
   ]
  },
  {
   "cell_type": "code",
   "execution_count": 3,
   "id": "a0a49042-1ed2-460c-b7c5-de9b7a925c1e",
   "metadata": {},
   "outputs": [
    {
     "name": "stdout",
     "output_type": "stream",
     "text": [
      "<class 'tuple'>\n",
      "(3, 4, 5, 6, 7, 8, 9)\n"
     ]
    }
   ],
   "source": [
    "# Q4. Convert a list into a tuple.\n",
    "l1 = [3,4,5,6,7,8,9]\n",
    "t1 = tuple(l1)\n",
    "print(type(t1))\n",
    "print(t1)"
   ]
  },
  {
   "cell_type": "code",
   "execution_count": 5,
   "id": "b9586374-3804-4395-84a1-1d5b3f977d4b",
   "metadata": {},
   "outputs": [
    {
     "name": "stdout",
     "output_type": "stream",
     "text": [
      "<class 'list'>\n",
      "[3, 4, 5, 6, 7, 8, 9]\n"
     ]
    }
   ],
   "source": [
    "#Q5. Convert a tuple into a list.\n",
    "t1 = (3,4,5,6,7,8,9)\n",
    "l1 = list(t1)\n",
    "print(type(l1))\n",
    "print(l1)"
   ]
  },
  {
   "cell_type": "code",
   "execution_count": 14,
   "id": "96d61872-6815-4119-a167-c28c4fa4e16f",
   "metadata": {},
   "outputs": [
    {
     "name": "stdin",
     "output_type": "stream",
     "text": [
      "Enter the number:  5\n"
     ]
    },
    {
     "name": "stdout",
     "output_type": "stream",
     "text": [
      "<class 'str'>\n",
      "0b101\n"
     ]
    }
   ],
   "source": [
    "#Q6. Convert a decimal number to binary.\n",
    "decimal_number = int(input(\"Enter the number: \"))\n",
    "binary_number = bin(decimal_number)\n",
    "print(type(binary_number))\n",
    "print(binary_number)"
   ]
  },
  {
   "cell_type": "code",
   "execution_count": 18,
   "id": "21e89014-97cc-41fe-be47-9191bc594077",
   "metadata": {},
   "outputs": [
    {
     "name": "stdin",
     "output_type": "stream",
     "text": [
      "Enter a number:  1\n"
     ]
    },
    {
     "name": "stdout",
     "output_type": "stream",
     "text": [
      "<class 'bool'>\n",
      "True\n"
     ]
    }
   ],
   "source": [
    "#Q7. Convert a non-zero number to boolean.\n",
    "# Prompt the user to enter a number\n",
    "number = float(input(\"Enter a number: \"))\n",
    "\n",
    "# Convert the number to a boolean\n",
    "boolean_value = bool(number)\n",
    "\n",
    "# Print the type and the boolean value\n",
    "print(type(boolean_value))\n",
    "print(boolean_value)\n"
   ]
  },
  {
   "cell_type": "code",
   "execution_count": null,
   "id": "9436cd7b-a051-40b4-8b58-81310a365e9a",
   "metadata": {},
   "outputs": [],
   "source": []
  }
 ],
 "metadata": {
  "kernelspec": {
   "display_name": "Python 3 (ipykernel)",
   "language": "python",
   "name": "python3"
  },
  "language_info": {
   "codemirror_mode": {
    "name": "ipython",
    "version": 3
   },
   "file_extension": ".py",
   "mimetype": "text/x-python",
   "name": "python",
   "nbconvert_exporter": "python",
   "pygments_lexer": "ipython3",
   "version": "3.10.8"
  }
 },
 "nbformat": 4,
 "nbformat_minor": 5
}
